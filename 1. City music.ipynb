{
 "cells": [
  {
   "cell_type": "markdown",
   "id": "a3f42276",
   "metadata": {},
   "source": [
    "Comparison of Moscow and Petersburg is surrounded by myths. For example:\n",
    " * Moscow - metropolis, subject to the hard rhythm of the working week;\n",
    " * Petersburg - cultural capital, with its own tastes.\n",
    "\n",
    "On Yandex Music data you will compare the behavior of users of the two capitals.\n",
    "\n",
    "**The purpose of the study** - test three hypotheses:\n",
    "1. The activity of users depends on the day of the week. And in Moscow and St. Petersburg it manifests itself differently.\n",
    "2. Monday morning in Moscow some genres prevail, and in Petersburg - others. Also on Friday evening, different genres prevail - depending on the city. \n",
    "3. Moscow and St. Petersburg prefer different genres of music.\n",
    "\n",
    "**Research progress**\n",
    "\n",
    "You will get information about user behavior from the file [yandex_music_project.csv¹. Nothing is known about the data quality. Therefore, before testing hypotheses you will need to review the data. \n",
    "\n",
    "You will check the data for errors and evaluate their impact on the research. Then, in the pre-processing phase you will look for an opportunity to fix the most critical data errors.\n",
    " \n",
    "Thus, the study will take place in three stages:\n",
    " 1. Review of data.\n",
    " 2. Data pre-processing.\n",
    " 3. Test hypothesis."
   ]
  },
  {
   "cell_type": "markdown",
   "id": "ee79946f",
   "metadata": {},
   "source": [
    "## Data Review\n",
    "\n",
    "Make the first representation of Yandex Music data.\n",
    "\n",
    "**Job 1**\n",
    "\n",
    "The main analytics tool is í pandas¹. Import this library."
   ]
  },
  {
   "cell_type": "code",
   "execution_count": 1,
   "id": "e7e6239f",
   "metadata": {},
   "outputs": [],
   "source": [
    "import pandas as pd"
   ]
  },
  {
   "cell_type": "markdown",
   "id": "f4cddd22",
   "metadata": {},
   "source": [
    "**Job 2**\n",
    "\n",
    "Read the file [yandex_music_project.csv[ from the folder ¹/datasets™ and save it in the variable ¹df ː:"
   ]
  },
  {
   "cell_type": "code",
   "execution_count": 3,
   "id": "cfa4ac50",
   "metadata": {},
   "outputs": [],
   "source": [
    "df = pd.read_csv('/Applications/Python/Проекты/Датасеты/yandex_music_project.csv')"
   ]
  },
  {
   "cell_type": "markdown",
   "id": "11999c0a",
   "metadata": {},
   "source": [
    "**Job 3**\n",
    "\n",
    "\n",
    "Display the first ten rows of the table:"
   ]
  },
  {
   "cell_type": "code",
   "execution_count": 5,
   "id": "532e4f1c",
   "metadata": {},
   "outputs": [
    {
     "name": "stdout",
     "output_type": "stream",
     "text": [
      "     userID                        Track            artist   genre  \\\n",
      "0  FFB692EC            Kamigata To Boots  The Mass Missile    rock   \n",
      "1  55204538  Delayed Because of Accident  Andreas Rönnberg    rock   \n",
      "2    20EC38            Funiculì funiculà       Mario Lanza     pop   \n",
      "3  A3DD03C9        Dragons in the Sunset        Fire + Ice    folk   \n",
      "4  E2DC1FAE                  Soul People        Space Echo   dance   \n",
      "5  842029A1                    Преданная         IMPERVTOR  rusrap   \n",
      "6  4CB90AA5                         True      Roman Messer   dance   \n",
      "7  F03E1C1F             Feeling This Way   Polina Griffith   dance   \n",
      "8  8FA1D3BE     И вновь продолжается бой               NaN  ruspop   \n",
      "9  E772D5C0                    Pessimist               NaN   dance   \n",
      "\n",
      "             City        time        Day  \n",
      "0  Saint-Petersburg  20:28:33  Wednesday  \n",
      "1            Moscow  14:07:09     Friday  \n",
      "2  Saint-Petersburg  20:58:07  Wednesday  \n",
      "3  Saint-Petersburg  08:37:09     Monday  \n",
      "4            Moscow  08:34:34     Monday  \n",
      "5  Saint-Petersburg  13:09:41     Friday  \n",
      "6            Moscow  13:00:07  Wednesday  \n",
      "7            Moscow  20:47:49  Wednesday  \n",
      "8            Moscow  09:17:40     Friday  \n",
      "9  Saint-Petersburg  21:20:49  Wednesday  \n"
     ]
    }
   ],
   "source": [
    "print(df.head(10))"
   ]
  },
  {
   "cell_type": "markdown",
   "id": "a418bedd",
   "metadata": {},
   "source": [
    "**Job 4**\n",
    "\n",
    "\n",
    "One command to get general information about the table using the ːinfo())method:"
   ]
  },
  {
   "cell_type": "code",
   "execution_count": 6,
   "id": "cdc24c62",
   "metadata": {},
   "outputs": [
    {
     "name": "stdout",
     "output_type": "stream",
     "text": [
      "<class 'pandas.core.frame.DataFrame'>\n",
      "RangeIndex: 65079 entries, 0 to 65078\n",
      "Data columns (total 7 columns):\n",
      " #   Column    Non-Null Count  Dtype \n",
      "---  ------    --------------  ----- \n",
      " 0     userID  65079 non-null  object\n",
      " 1   Track     63848 non-null  object\n",
      " 2   artist    57876 non-null  object\n",
      " 3   genre     63881 non-null  object\n",
      " 4     City    65079 non-null  object\n",
      " 5   time      65079 non-null  object\n",
      " 6   Day       65079 non-null  object\n",
      "dtypes: object(7)\n",
      "memory usage: 3.5+ MB\n"
     ]
    }
   ],
   "source": [
    "df.info()"
   ]
  },
  {
   "cell_type": "markdown",
   "id": "914e6caa",
   "metadata": {},
   "source": [
    "So, there are seven columns in the table. The data type in all columns is expo object.\n",
    "\n",
    "According to the data documentation:\n",
    "* ː userID™ - user identifier;\n",
    "* € Track™ - the name of the track;  \n",
    "* ™artist™ - name of the artist;\n",
    "* ™genre™ - the name of the genre;\n",
    "* € City™ - User city;\n",
    "* ː time™ - the beginning of the audition;\n",
    "* € Day™ - the day of the week.\n",
    "\n",
    "The number of values in the columns varies. This means that there are missing values in the data.\n",
    "\n",
    "**Job 5**\n",
    "\n",
    "**Question with free form of answer**\n",
    "\n",
    "In the column titles you can see style violations:\n",
    "* Lower case letters are combined with upper case letters.\n",
    "* Gaps encountered\n",
    "\n",
    "What’s the third infraction?\n",
    "\n",
    "Words are better separated by underlining: user_id\n",
    "\n",
    "**Conclusions**\n",
    "\n",
    "In each row of the table - data about the listened track. Part of the columns describes the composition itself: name, artist and genre. The rest of the data tells about the user: from what city he was listening to music. \n",
    "\n",
    "It can be provisionally argued that the data are sufficient to test hypotheses. But there are omissions in the data, and in the titles of the columns - differences with a good style.\n",
    "\n",
    "To move forward, we need to fix data problems.\n",
    "\n",
    "## Data Preview\n",
    "Correct the style in the column headers, eliminate the skips. Then check the data for duplicates.\n",
    "\n",
    "### Header Style\n",
    "\n",
    "**Job 6**\n",
    "\n",
    "Print column names on the screen:"
   ]
  },
  {
   "cell_type": "code",
   "execution_count": 7,
   "id": "c3b95f89",
   "metadata": {},
   "outputs": [
    {
     "data": {
      "text/plain": [
       "Index(['  userID', 'Track', 'artist', 'genre', '  City  ', 'time', 'Day'], dtype='object')"
      ]
     },
     "execution_count": 7,
     "metadata": {},
     "output_type": "execute_result"
    }
   ],
   "source": [
    "df.columns"
   ]
  },
  {
   "cell_type": "markdown",
   "id": "143937ce",
   "metadata": {},
   "source": [
    "**Job 7**\n",
    "\n",
    "\n",
    "Align titles with good style:\n",
    "* a few words in the name write in «zminom_register»,\n",
    "* Make all characters lowercase,\n",
    "* Fill in the gaps.\n",
    "\n",
    "To do this, rename the columns as follows:\n",
    "\n",
    "* `'  userID'` → `'user_id'`;\n",
    "* `'Track'` → `'track'`;\n",
    "* `'  City  '` → `'city'`;\n",
    "* `'Day'` → `'day'`."
   ]
  },
  {
   "cell_type": "code",
   "execution_count": 8,
   "id": "722149a7",
   "metadata": {},
   "outputs": [],
   "source": [
    "df = df.rename(columns = {\n",
    "    '  userID' : 'user_id',\n",
    "    'Track' : 'track',\n",
    "    '  City  ' : 'city',\n",
    "    'Day' : 'day'\n",
    "})"
   ]
  },
  {
   "cell_type": "markdown",
   "id": "d6653bd6",
   "metadata": {},
   "source": [
    "**Job 8**\n",
    "\n",
    "\n",
    "Check the result. To do this, print the column names again:"
   ]
  },
  {
   "cell_type": "code",
   "execution_count": 9,
   "id": "224e5407",
   "metadata": {},
   "outputs": [
    {
     "data": {
      "text/plain": [
       "Index(['user_id', 'track', 'artist', 'genre', 'city', 'time', 'day'], dtype='object')"
      ]
     },
     "execution_count": 9,
     "metadata": {},
     "output_type": "execute_result"
    }
   ],
   "source": [
    "df.columns"
   ]
  },
  {
   "cell_type": "markdown",
   "id": "88f67840",
   "metadata": {},
   "source": [
    "### Skipping values\n",
    "\n",
    "**Job 9**\n",
    "\n",
    "First, calculate how many values are missing in the table. For this, two methods are sufficient ¹pandas ː:"
   ]
  },
  {
   "cell_type": "code",
   "execution_count": 10,
   "id": "bf22b4ff",
   "metadata": {},
   "outputs": [
    {
     "data": {
      "text/plain": [
       "user_id       0\n",
       "track      1231\n",
       "artist     7203\n",
       "genre      1198\n",
       "city          0\n",
       "time          0\n",
       "day           0\n",
       "dtype: int64"
      ]
     },
     "execution_count": 10,
     "metadata": {},
     "output_type": "execute_result"
    }
   ],
   "source": [
    "df.isna().sum()"
   ]
  },
  {
   "cell_type": "markdown",
   "id": "05b8644b",
   "metadata": {},
   "source": [
    "Not all omitted values affect the study. So in ¹track™ and ¹artist™ skips are not important for your work. It is sufficient to replace them with explicit designations.\n",
    "\n",
    "However, the omissions in ¹ genre may interfere with the comparison of musical tastes in Moscow and Saint Petersburg. In practice it would be correct to set the cause of the skips and recover the data. This possibility is not available in the training project. You will have to:\n",
    "* Fill in these blanks with explicit symbols;\n",
    "* assess how much they will damage the calculations. \n",
    "\n",
    "**Job 10**\n",
    "\n",
    "Replace the missing values in the columns ¹track™, ī artist™ and ¹genre™ with the row ¿'unknown'. To do this, create a list of ːcolumns_to_replace ː, search its elements with a cycle of ¹for€ , and replace the missing values for each column:"
   ]
  },
  {
   "cell_type": "code",
   "execution_count": 11,
   "id": "d724c9a6",
   "metadata": {},
   "outputs": [],
   "source": [
    "columns_to_replace = [['track'], ['artist'], ['genre']]\n",
    "for i in columns_to_replace:\n",
    "    df[i] = df[i].fillna('unknown')"
   ]
  },
  {
   "cell_type": "markdown",
   "id": "c6815d2a",
   "metadata": {},
   "source": [
    "**Job 11**\n",
    "\n",
    "Make sure that there are no blanks left in the table. To do this, count the missing values again."
   ]
  },
  {
   "cell_type": "code",
   "execution_count": 12,
   "id": "32022c26",
   "metadata": {},
   "outputs": [
    {
     "data": {
      "text/plain": [
       "user_id    0\n",
       "track      0\n",
       "artist     0\n",
       "genre      0\n",
       "city       0\n",
       "time       0\n",
       "day        0\n",
       "dtype: int64"
      ]
     },
     "execution_count": 12,
     "metadata": {},
     "output_type": "execute_result"
    }
   ],
   "source": [
    "df.isna().sum()"
   ]
  },
  {
   "cell_type": "markdown",
   "id": "4aee1146",
   "metadata": {},
   "source": [
    "### Duplicates\n",
    "\n",
    "**Job 12**\n",
    "\n",
    "Count the explicit duplicates in the table as one command:"
   ]
  },
  {
   "cell_type": "code",
   "execution_count": 13,
   "id": "5e33a2d4",
   "metadata": {},
   "outputs": [
    {
     "data": {
      "text/plain": [
       "3826"
      ]
     },
     "execution_count": 13,
     "metadata": {},
     "output_type": "execute_result"
    }
   ],
   "source": [
    "df.duplicated().sum()"
   ]
  },
  {
   "cell_type": "markdown",
   "id": "861672fc",
   "metadata": {},
   "source": [
    "**Job 13**\n",
    "\n",
    "Call the special method ːpandas¹to remove obvious duplicates:"
   ]
  },
  {
   "cell_type": "code",
   "execution_count": 14,
   "id": "e2065eff",
   "metadata": {},
   "outputs": [],
   "source": [
    "df = df.drop_duplicates().reset_index(drop=True)"
   ]
  },
  {
   "cell_type": "markdown",
   "id": "378edf5b",
   "metadata": {},
   "source": [
    "**Job 14**\n",
    "\n",
    "Again count the explicit duplicates in the table - make sure you get rid of them completely:"
   ]
  },
  {
   "cell_type": "code",
   "execution_count": 15,
   "id": "a85631a1",
   "metadata": {},
   "outputs": [
    {
     "data": {
      "text/plain": [
       "0"
      ]
     },
     "execution_count": 15,
     "metadata": {},
     "output_type": "execute_result"
    }
   ],
   "source": [
    "df.duplicated().sum()"
   ]
  },
  {
   "cell_type": "markdown",
   "id": "830ea116",
   "metadata": {},
   "source": [
    "Now get rid of the implicit duplicates in the column ːgenre¹. For example, the name of the same genre can be written in a slightly different way. Such errors will also affect the outcome of the study.\n",
    "\n",
    "**Job 15**\n",
    "\n",
    "Display a list of unique genre names in alphabetical order. To do this:\n",
    "1. Extract the desired dataframe column; \n",
    "2. Apply the sorting method to it;\n",
    "3. For the sorted column, call the method that returns unique values from the column."
   ]
  },
  {
   "cell_type": "code",
   "execution_count": 16,
   "id": "9da4be57",
   "metadata": {},
   "outputs": [
    {
     "data": {
      "text/plain": [
       "array(['acid', 'acoustic', 'action', 'adult', 'africa', 'afrikaans',\n",
       "       'alternative', 'alternativepunk', 'ambient', 'americana',\n",
       "       'animated', 'anime', 'arabesk', 'arabic', 'arena',\n",
       "       'argentinetango', 'art', 'audiobook', 'author', 'avantgarde',\n",
       "       'axé', 'baile', 'balkan', 'beats', 'bigroom', 'black', 'bluegrass',\n",
       "       'blues', 'bollywood', 'bossa', 'brazilian', 'breakbeat', 'breaks',\n",
       "       'broadway', 'cantautori', 'cantopop', 'canzone', 'caribbean',\n",
       "       'caucasian', 'celtic', 'chamber', 'chanson', 'children', 'chill',\n",
       "       'chinese', 'choral', 'christian', 'christmas', 'classical',\n",
       "       'classicmetal', 'club', 'colombian', 'comedy', 'conjazz',\n",
       "       'contemporary', 'country', 'cuban', 'dance', 'dancehall',\n",
       "       'dancepop', 'dark', 'death', 'deep', 'deutschrock', 'deutschspr',\n",
       "       'dirty', 'disco', 'dnb', 'documentary', 'downbeat', 'downtempo',\n",
       "       'drum', 'dub', 'dubstep', 'eastern', 'easy', 'electronic',\n",
       "       'electropop', 'emo', 'entehno', 'epicmetal', 'estrada', 'ethnic',\n",
       "       'eurofolk', 'european', 'experimental', 'extrememetal', 'fado',\n",
       "       'fairytail', 'film', 'fitness', 'flamenco', 'folk', 'folklore',\n",
       "       'folkmetal', 'folkrock', 'folktronica', 'forró', 'frankreich',\n",
       "       'französisch', 'french', 'funk', 'future', 'gangsta', 'garage',\n",
       "       'german', 'ghazal', 'gitarre', 'glitch', 'gospel', 'gothic',\n",
       "       'grime', 'grunge', 'gypsy', 'handsup', \"hard'n'heavy\", 'hardcore',\n",
       "       'hardstyle', 'hardtechno', 'hip', 'hip-hop', 'hiphop',\n",
       "       'historisch', 'holiday', 'hop', 'horror', 'house', 'hymn', 'idm',\n",
       "       'independent', 'indian', 'indie', 'indipop', 'industrial',\n",
       "       'inspirational', 'instrumental', 'international', 'irish', 'jam',\n",
       "       'japanese', 'jazz', 'jewish', 'jpop', 'jungle', 'k-pop',\n",
       "       'karadeniz', 'karaoke', 'kayokyoku', 'korean', 'laiko', 'latin',\n",
       "       'latino', 'leftfield', 'local', 'lounge', 'loungeelectronic',\n",
       "       'lovers', 'malaysian', 'mandopop', 'marschmusik', 'meditative',\n",
       "       'mediterranean', 'melodic', 'metal', 'metalcore', 'mexican',\n",
       "       'middle', 'minimal', 'miscellaneous', 'modern', 'mood', 'mpb',\n",
       "       'muslim', 'native', 'neoklassik', 'neue', 'new', 'newage',\n",
       "       'newwave', 'nu', 'nujazz', 'numetal', 'oceania', 'old', 'opera',\n",
       "       'orchestral', 'other', 'piano', 'podcasts', 'pop', 'popdance',\n",
       "       'popelectronic', 'popeurodance', 'poprussian', 'post',\n",
       "       'posthardcore', 'postrock', 'power', 'progmetal', 'progressive',\n",
       "       'psychedelic', 'punjabi', 'punk', 'quebecois', 'ragga', 'ram',\n",
       "       'rancheras', 'rap', 'rave', 'reggae', 'reggaeton', 'regional',\n",
       "       'relax', 'religious', 'retro', 'rhythm', 'rnb', 'rnr', 'rock',\n",
       "       'rockabilly', 'rockalternative', 'rockindie', 'rockother',\n",
       "       'romance', 'roots', 'ruspop', 'rusrap', 'rusrock', 'russian',\n",
       "       'salsa', 'samba', 'scenic', 'schlager', 'self', 'sertanejo',\n",
       "       'shanson', 'shoegazing', 'showtunes', 'singer', 'ska', 'skarock',\n",
       "       'slow', 'smooth', 'soft', 'soul', 'soulful', 'sound', 'soundtrack',\n",
       "       'southern', 'specialty', 'speech', 'spiritual', 'sport',\n",
       "       'stonerrock', 'surf', 'swing', 'synthpop', 'synthrock',\n",
       "       'sängerportrait', 'tango', 'tanzorchester', 'taraftar', 'tatar',\n",
       "       'tech', 'techno', 'teen', 'thrash', 'top', 'traditional',\n",
       "       'tradjazz', 'trance', 'tribal', 'trip', 'triphop', 'tropical',\n",
       "       'türk', 'türkçe', 'ukrrock', 'unknown', 'urban', 'uzbek',\n",
       "       'variété', 'vi', 'videogame', 'vocal', 'western', 'world',\n",
       "       'worldbeat', 'ïîï', 'электроника'], dtype=object)"
      ]
     },
     "execution_count": 16,
     "metadata": {},
     "output_type": "execute_result"
    }
   ],
   "source": [
    "df['genre'].sort_values().unique()"
   ]
  },
  {
   "cell_type": "markdown",
   "id": "36846e20",
   "metadata": {},
   "source": [
    "**Job 16**\n",
    "\n",
    "Review the list and find implicit duplicates of the name ¿hiphop³. These may be names with errors or alternate names of the same genre.\n",
    "\n",
    "You will see the following implicit duplicates:\n",
    "* *hip*,\n",
    "* *hop*,\n",
    "* *hip-hop*.\n",
    "\n",
    "To clear the table, use the ːreplace()) method with two arguments: a list of duplicate rows (including *hip*, *hop*, and *hip-hop*) and a string with the correct value. You need to correct the column ːgenre[ in the table ¹df¹: replace each value from the list of duplicates with the correct one. Instead of the ¿hip ː, ¹hopñ and ¿hip-hopñ the table should have the ¿hiphop value:"
   ]
  },
  {
   "cell_type": "code",
   "execution_count": 17,
   "id": "859cc19b",
   "metadata": {},
   "outputs": [],
   "source": [
    "df = df.replace(['hip', 'hop', 'hip-hop'], 'hiphop')"
   ]
  },
  {
   "cell_type": "markdown",
   "id": "488bd8bd",
   "metadata": {},
   "source": [
    "**Job 17**\n",
    "\n",
    "Check that you have replaced the wrong names:\n",
    "\n",
    "*   hip,\n",
    "*   hop,\n",
    "*   hip-hop.\n",
    "\n",
    "Print a sorted list of unique column values ːgenre ê:"
   ]
  },
  {
   "cell_type": "code",
   "execution_count": 18,
   "id": "de15f64e",
   "metadata": {},
   "outputs": [
    {
     "data": {
      "text/plain": [
       "array(['acid', 'acoustic', 'action', 'adult', 'africa', 'afrikaans',\n",
       "       'alternative', 'alternativepunk', 'ambient', 'americana',\n",
       "       'animated', 'anime', 'arabesk', 'arabic', 'arena',\n",
       "       'argentinetango', 'art', 'audiobook', 'author', 'avantgarde',\n",
       "       'axé', 'baile', 'balkan', 'beats', 'bigroom', 'black', 'bluegrass',\n",
       "       'blues', 'bollywood', 'bossa', 'brazilian', 'breakbeat', 'breaks',\n",
       "       'broadway', 'cantautori', 'cantopop', 'canzone', 'caribbean',\n",
       "       'caucasian', 'celtic', 'chamber', 'chanson', 'children', 'chill',\n",
       "       'chinese', 'choral', 'christian', 'christmas', 'classical',\n",
       "       'classicmetal', 'club', 'colombian', 'comedy', 'conjazz',\n",
       "       'contemporary', 'country', 'cuban', 'dance', 'dancehall',\n",
       "       'dancepop', 'dark', 'death', 'deep', 'deutschrock', 'deutschspr',\n",
       "       'dirty', 'disco', 'dnb', 'documentary', 'downbeat', 'downtempo',\n",
       "       'drum', 'dub', 'dubstep', 'eastern', 'easy', 'electronic',\n",
       "       'electropop', 'emo', 'entehno', 'epicmetal', 'estrada', 'ethnic',\n",
       "       'eurofolk', 'european', 'experimental', 'extrememetal', 'fado',\n",
       "       'fairytail', 'film', 'fitness', 'flamenco', 'folk', 'folklore',\n",
       "       'folkmetal', 'folkrock', 'folktronica', 'forró', 'frankreich',\n",
       "       'französisch', 'french', 'funk', 'future', 'gangsta', 'garage',\n",
       "       'german', 'ghazal', 'gitarre', 'glitch', 'gospel', 'gothic',\n",
       "       'grime', 'grunge', 'gypsy', 'handsup', \"hard'n'heavy\", 'hardcore',\n",
       "       'hardstyle', 'hardtechno', 'hiphop', 'historisch', 'holiday',\n",
       "       'horror', 'house', 'hymn', 'idm', 'independent', 'indian', 'indie',\n",
       "       'indipop', 'industrial', 'inspirational', 'instrumental',\n",
       "       'international', 'irish', 'jam', 'japanese', 'jazz', 'jewish',\n",
       "       'jpop', 'jungle', 'k-pop', 'karadeniz', 'karaoke', 'kayokyoku',\n",
       "       'korean', 'laiko', 'latin', 'latino', 'leftfield', 'local',\n",
       "       'lounge', 'loungeelectronic', 'lovers', 'malaysian', 'mandopop',\n",
       "       'marschmusik', 'meditative', 'mediterranean', 'melodic', 'metal',\n",
       "       'metalcore', 'mexican', 'middle', 'minimal', 'miscellaneous',\n",
       "       'modern', 'mood', 'mpb', 'muslim', 'native', 'neoklassik', 'neue',\n",
       "       'new', 'newage', 'newwave', 'nu', 'nujazz', 'numetal', 'oceania',\n",
       "       'old', 'opera', 'orchestral', 'other', 'piano', 'podcasts', 'pop',\n",
       "       'popdance', 'popelectronic', 'popeurodance', 'poprussian', 'post',\n",
       "       'posthardcore', 'postrock', 'power', 'progmetal', 'progressive',\n",
       "       'psychedelic', 'punjabi', 'punk', 'quebecois', 'ragga', 'ram',\n",
       "       'rancheras', 'rap', 'rave', 'reggae', 'reggaeton', 'regional',\n",
       "       'relax', 'religious', 'retro', 'rhythm', 'rnb', 'rnr', 'rock',\n",
       "       'rockabilly', 'rockalternative', 'rockindie', 'rockother',\n",
       "       'romance', 'roots', 'ruspop', 'rusrap', 'rusrock', 'russian',\n",
       "       'salsa', 'samba', 'scenic', 'schlager', 'self', 'sertanejo',\n",
       "       'shanson', 'shoegazing', 'showtunes', 'singer', 'ska', 'skarock',\n",
       "       'slow', 'smooth', 'soft', 'soul', 'soulful', 'sound', 'soundtrack',\n",
       "       'southern', 'specialty', 'speech', 'spiritual', 'sport',\n",
       "       'stonerrock', 'surf', 'swing', 'synthpop', 'synthrock',\n",
       "       'sängerportrait', 'tango', 'tanzorchester', 'taraftar', 'tatar',\n",
       "       'tech', 'techno', 'teen', 'thrash', 'top', 'traditional',\n",
       "       'tradjazz', 'trance', 'tribal', 'trip', 'triphop', 'tropical',\n",
       "       'türk', 'türkçe', 'ukrrock', 'unknown', 'urban', 'uzbek',\n",
       "       'variété', 'vi', 'videogame', 'vocal', 'western', 'world',\n",
       "       'worldbeat', 'ïîï', 'электроника'], dtype=object)"
      ]
     },
     "execution_count": 18,
     "metadata": {},
     "output_type": "execute_result"
    }
   ],
   "source": [
    "df['genre'].sort_values().unique()"
   ]
  },
  {
   "cell_type": "markdown",
   "id": "327dbd68",
   "metadata": {},
   "source": [
    "**Conclusions**\n",
    "\n",
    "The pre-processing revealed three data problems:\n",
    "\n",
    "- violations in the style of headlines,\n",
    "- missing values,\n",
    "- duplicates - explicit and implicit.\n",
    "\n",
    "You have corrected the headings to simplify the work with the table. Without duplicates, the study will become more accurate.\n",
    "\n",
    "The omitted values have been replaced by ¹'unknown'ː. It is yet to be seen whether the omission in column ¿genre³will not harm the research.\n",
    "\n",
    "Now we can move on to hypothesis testing. \n",
    "\n",
    "## Hypothesis Testing\n",
    "\n",
    "### Comparing user behavior between two capitals\n",
    "\n",
    "The first hypothesis states that users listen to music in different ways in Moscow and Saint Petersburg. Check this assumption for three days of the week - Monday, Wednesday and Friday. To do this:\n",
    "\n",
    "* Divide users of Moscow and Saint Petersburg.\n",
    "* Compare how many tracks each user group listened to on Monday, Wednesday and Friday.\n",
    "\n",
    "**Job 18**\n",
    "\n",
    "For training, first perform each calculation separately. \n",
    "\n",
    "Evaluate user activity in each city. Group the city data and count the listings in each group."
   ]
  },
  {
   "cell_type": "code",
   "execution_count": 19,
   "id": "59b8749f",
   "metadata": {},
   "outputs": [
    {
     "data": {
      "text/plain": [
       "city\n",
       "Moscow              42741\n",
       "Saint-Petersburg    18512\n",
       "Name: track, dtype: int64"
      ]
     },
     "execution_count": 19,
     "metadata": {},
     "output_type": "execute_result"
    }
   ],
   "source": [
    "cities = df.groupby('city')['track'].count()\n",
    "cities"
   ]
  },
  {
   "cell_type": "markdown",
   "id": "298d6aa3",
   "metadata": {},
   "source": [
    "There are more auditions in Moscow than in St. Petersburg. Just more users in Moscow.\n",
    "\n",
    "**Job 19**\n",
    "\n",
    "Now group the day of the week and count the auditions on Monday, Wednesday and Friday. Note that the data contains information about the audition only for these days."
   ]
  },
  {
   "cell_type": "code",
   "execution_count": 20,
   "id": "b59c0bf1",
   "metadata": {},
   "outputs": [
    {
     "data": {
      "text/plain": [
       "day\n",
       "Friday       21840\n",
       "Monday       21354\n",
       "Wednesday    18059\n",
       "Name: track, dtype: int64"
      ]
     },
     "execution_count": 20,
     "metadata": {},
     "output_type": "execute_result"
    }
   ],
   "source": [
    "days = df.groupby('day')['track'].count()\n",
    "days"
   ]
  },
  {
   "cell_type": "markdown",
   "id": "2fb5fc82",
   "metadata": {},
   "source": [
    "On average, users from two cities are less active on Wednesdays. But the picture may change if you consider each city separately.\n",
    "\n",
    "**Job 20**\n",
    "\n",
    "\n",
    "You have seen how the group works in the city and on the days of the week. Now write a feature that will combine these two calculations.\n",
    "\n",
    "Create a function ːnumber_tracks()ː that counts listings for a given day and city. It will need two parameters:\n",
    "* day of the week,\n",
    "* city name.\n",
    "\n",
    "In functions, save to a variable rows of the source table with the value:\n",
    "  * in column ːday™ equals the parameter ¹day¹,\n",
    "  * in column ːcity™ equals the parameter ːcity ː.\n",
    "\n",
    "To do this, apply sequential filtering with logical indexing (or complex logical expressions into one line if you are already familiar with them).\n",
    "\n",
    "Then calculate the values in the column [user_id™ of the resulting table. Save the result to the new variable. Return this variable from the function."
   ]
  },
  {
   "cell_type": "code",
   "execution_count": 21,
   "id": "0ce3a3cd",
   "metadata": {},
   "outputs": [],
   "source": [
    "def number_tracks(day, city):\n",
    "    track_list = df[df['day'] == day]\n",
    "    track_list = track_list[track_list['city'] == city]\n",
    "    track_list_count = track_list['user_id'].count()\n",
    "    return track_list_count\n"
   ]
  },
  {
   "cell_type": "markdown",
   "id": "ca8536af",
   "metadata": {},
   "source": [
    "**Job 21**\n",
    "\n",
    "Call ːnumber_tracks()) six times, changing the parameter value so as to get data for each city in each of three days."
   ]
  },
  {
   "cell_type": "code",
   "execution_count": 22,
   "id": "b8e8ae8f",
   "metadata": {},
   "outputs": [
    {
     "data": {
      "text/plain": [
       "15740"
      ]
     },
     "execution_count": 22,
     "metadata": {},
     "output_type": "execute_result"
    }
   ],
   "source": [
    "result = number_tracks('Monday', 'Moscow')\n",
    "result"
   ]
  },
  {
   "cell_type": "code",
   "execution_count": 23,
   "id": "a90068f4",
   "metadata": {},
   "outputs": [
    {
     "data": {
      "text/plain": [
       "5614"
      ]
     },
     "execution_count": 23,
     "metadata": {},
     "output_type": "execute_result"
    }
   ],
   "source": [
    "result = number_tracks('Monday', 'Saint-Petersburg')\n",
    "result"
   ]
  },
  {
   "cell_type": "code",
   "execution_count": 24,
   "id": "d8fe8fce",
   "metadata": {},
   "outputs": [
    {
     "data": {
      "text/plain": [
       "11056"
      ]
     },
     "execution_count": 24,
     "metadata": {},
     "output_type": "execute_result"
    }
   ],
   "source": [
    "result = number_tracks('Wednesday', 'Moscow')\n",
    "result"
   ]
  },
  {
   "cell_type": "code",
   "execution_count": 25,
   "id": "3660c7c6",
   "metadata": {},
   "outputs": [
    {
     "data": {
      "text/plain": [
       "7003"
      ]
     },
     "execution_count": 25,
     "metadata": {},
     "output_type": "execute_result"
    }
   ],
   "source": [
    "result = number_tracks('Wednesday', 'Saint-Petersburg')\n",
    "result"
   ]
  },
  {
   "cell_type": "code",
   "execution_count": 26,
   "id": "12bf0ac2",
   "metadata": {},
   "outputs": [
    {
     "data": {
      "text/plain": [
       "15945"
      ]
     },
     "execution_count": 26,
     "metadata": {},
     "output_type": "execute_result"
    }
   ],
   "source": [
    "result = number_tracks('Friday', 'Moscow')\n",
    "result"
   ]
  },
  {
   "cell_type": "code",
   "execution_count": 27,
   "id": "5373aa9a",
   "metadata": {},
   "outputs": [
    {
     "data": {
      "text/plain": [
       "5895"
      ]
     },
     "execution_count": 27,
     "metadata": {},
     "output_type": "execute_result"
    }
   ],
   "source": [
    "result = number_tracks('Friday', 'Saint-Petersburg')\n",
    "result"
   ]
  },
  {
   "cell_type": "markdown",
   "id": "ec5192e7",
   "metadata": {},
   "source": [
    "**Job 22**\n",
    "\n",
    "Create with the help of the constructor ¹pd.DataFrame™ a table where\n",
    "* the names of columns - € ['city', 'monday', 'wednesday', 'friday']);\n",
    "* data - the results that you obtained with the help of ːnumber_tracks."
   ]
  },
  {
   "cell_type": "code",
   "execution_count": 28,
   "id": "b475f213",
   "metadata": {},
   "outputs": [
    {
     "name": "stdout",
     "output_type": "stream",
     "text": [
      "               city  monday  wednesday  friday\n",
      "0            Moscow   15740      11056   15945\n",
      "1  Saint-Petersburg    5614       7003    5895\n"
     ]
    }
   ],
   "source": [
    "data = [['Moscow', 15740, 11056, 15945],\n",
    "       ['Saint-Petersburg', 5614, 7003, 5895]] # Таблица с результатами\n",
    "columns = ['city', 'monday', 'wednesday', 'friday']\n",
    "print(pd.DataFrame(data=data, columns=columns))"
   ]
  },
  {
   "cell_type": "markdown",
   "id": "43f76270",
   "metadata": {},
   "source": [
    "**Conclusions**\n",
    "\n",
    "The data shows the difference in user behavior:\n",
    "\n",
    "- In Moscow, the peak of auditions falls on Monday and Friday, and on Wednesday a decline is noticeable.\n",
    "- In St. Petersburg, on the contrary, more people listen to music on Wednesdays.\n",
    "\n",
    "So the data supports the first hypothesis.\n",
    "\n",
    "### Music at the beginning and end of the week\n",
    "\n",
    "According to the second hypothesis, on Monday morning, some genres prevail in Moscow and others in Petersburg. Also on Friday evening, different genres prevail - depending on the city.\n",
    "\n",
    "**Job 23**\n",
    "\n",
    "Save tables with data into two variables:\n",
    "* for Moscow - in ːmoscow_general ː;\n",
    "* for Saint Petersburg - in [spb_general¹."
   ]
  },
  {
   "cell_type": "code",
   "execution_count": 29,
   "id": "0808c609",
   "metadata": {},
   "outputs": [],
   "source": [
    "moscow_general = df[df['city'] == 'Moscow']"
   ]
  },
  {
   "cell_type": "code",
   "execution_count": 30,
   "id": "d7ad8cf2",
   "metadata": {},
   "outputs": [],
   "source": [
    "spb_general = df[df['city'] == 'Saint-Petersburg']"
   ]
  },
  {
   "cell_type": "markdown",
   "id": "61a658a7",
   "metadata": {},
   "source": [
    "**Job 24**\n",
    "\n",
    "Create the function ːgenre_weekday()™ with four parameters:\n",
    "* table (dataframe) with data\n",
    "* day of the week,\n",
    "* initial timestamp in the format 'hh:mm', \n",
    "* the last time stamp in the format 'hh:mm'.\n",
    "\n",
    "The feature should return information about the top 10 genres of the tracks that were listened to on the specified day, between the two time stamps."
   ]
  },
  {
   "cell_type": "code",
   "execution_count": 31,
   "id": "8b3d1bc4",
   "metadata": {},
   "outputs": [],
   "source": [
    "def genre_weekday(df, day, time1, time2):\n",
    "    genre_df = df[df['day'] == day]\n",
    "    genre_df = genre_df[genre_df['time'] < time2]\n",
    "    genre_df = genre_df[genre_df['time'] > time1]\n",
    "    genre_df_count = genre_df.groupby('genre')['genre'].count()\n",
    "    genre_df_sorted = genre_df_count.sort_values(ascending = False)\n",
    "    return genre_df_sorted[:10]"
   ]
  },
  {
   "cell_type": "markdown",
   "id": "29e82061",
   "metadata": {},
   "source": [
    "**Job 25**\n",
    "\n",
    "\n",
    "Compare the results of the function for Moscow and Saint Petersburg on Monday morning (from 7:00 to 11:00) and Friday evening (from 17:00 to 23:00):"
   ]
  },
  {
   "cell_type": "code",
   "execution_count": 32,
   "id": "ba8cbba5",
   "metadata": {},
   "outputs": [
    {
     "name": "stdout",
     "output_type": "stream",
     "text": [
      "genre\n",
      "pop            781\n",
      "dance          549\n",
      "electronic     480\n",
      "rock           474\n",
      "hiphop         286\n",
      "ruspop         186\n",
      "world          181\n",
      "rusrap         175\n",
      "alternative    164\n",
      "unknown        161\n",
      "Name: genre, dtype: int64\n"
     ]
    }
   ],
   "source": [
    "print(genre_weekday(moscow_general, 'Monday', '07:00', '11:00'))"
   ]
  },
  {
   "cell_type": "code",
   "execution_count": 33,
   "id": "d9822899",
   "metadata": {},
   "outputs": [
    {
     "name": "stdout",
     "output_type": "stream",
     "text": [
      "genre\n",
      "pop            218\n",
      "dance          182\n",
      "rock           162\n",
      "electronic     147\n",
      "hiphop          80\n",
      "ruspop          64\n",
      "alternative     58\n",
      "rusrap          55\n",
      "jazz            44\n",
      "classical       40\n",
      "Name: genre, dtype: int64\n"
     ]
    }
   ],
   "source": [
    "print(genre_weekday(spb_general, 'Monday', '07:00', '11:00'))"
   ]
  },
  {
   "cell_type": "code",
   "execution_count": 34,
   "id": "95834f45",
   "metadata": {},
   "outputs": [
    {
     "name": "stdout",
     "output_type": "stream",
     "text": [
      "genre\n",
      "pop            713\n",
      "rock           517\n",
      "dance          495\n",
      "electronic     482\n",
      "hiphop         273\n",
      "world          208\n",
      "ruspop         170\n",
      "alternative    163\n",
      "classical      163\n",
      "rusrap         142\n",
      "Name: genre, dtype: int64\n"
     ]
    }
   ],
   "source": [
    "print(genre_weekday(moscow_general, 'Friday', '17:00', '23:00'))"
   ]
  },
  {
   "cell_type": "code",
   "execution_count": 35,
   "id": "3d386bdb",
   "metadata": {},
   "outputs": [
    {
     "name": "stdout",
     "output_type": "stream",
     "text": [
      "genre\n",
      "pop            256\n",
      "electronic     216\n",
      "rock           216\n",
      "dance          210\n",
      "hiphop          97\n",
      "alternative     63\n",
      "jazz            61\n",
      "classical       60\n",
      "rusrap          59\n",
      "world           54\n",
      "Name: genre, dtype: int64\n"
     ]
    }
   ],
   "source": [
    "print(genre_weekday(spb_general, 'Friday', '17:00', '23:00'))"
   ]
  },
  {
   "cell_type": "markdown",
   "id": "82b7bcd9",
   "metadata": {},
   "source": [
    "**Conclusions**\n",
    "\n",
    "If you compare the top 10 genres on Monday morning, you can draw the following conclusions:\n",
    "\n",
    "1. Moscow and St. Petersburg listen to similar music. The only difference - the Moscow rating entered the genre \"world\", and in Petersburg - jazz and classics.\n",
    "\n",
    "2. In Moscow, the missing values were so many that the value of ¹'unknown'³ ranked tenth among the most popular genres. So the missed values are a significant part of the data and threaten the credibility of the study.\n",
    "\n",
    "Friday night does not change this picture. Some genres rise a little higher, others descend, but overall the top 10 remains the same.\n",
    "\n",
    "Thus, the second hypothesis was only partially confirmed:\n",
    "* Users listen to similar music at the beginning of the week and at the end.\n",
    "* The difference between Moscow and St. Petersburg is not too pronounced.\n",
    "\n",
    "However, omissions in the data cast doubt on this result. There are so many of them in Moscow that the top 10 rating might look different if not for lost data about genres.\n",
    "\n",
    "### Genre Preferences in Moscow and Petersburg\n",
    "\n",
    "Hypothesis: Petersburg - the capital of rap, the music of this genre is heard there more often than in Moscow.  And Moscow is a city of contrasts, in which, however, is dominated by pop music.\n",
    "\n",
    "**Job 26**\n",
    "\n",
    "Group the table ːmoscow_general™ by genre and consider listening to the tracks of each genre as ¹count(). Then sort the result in descending order and save it in the table ¿moscow_genres¹."
   ]
  },
  {
   "cell_type": "code",
   "execution_count": 36,
   "id": "079d15a9",
   "metadata": {},
   "outputs": [],
   "source": [
    "moscow_genres = moscow_general.groupby('genre')['genre'].count().sort_values(ascending = False)"
   ]
  },
  {
   "cell_type": "markdown",
   "id": "bddb6578",
   "metadata": {},
   "source": [
    "**Job 27**\n",
    "\n",
    "Display the first ten lines of ːmoscow_genres ê:"
   ]
  },
  {
   "cell_type": "code",
   "execution_count": 37,
   "id": "46e4433b",
   "metadata": {},
   "outputs": [
    {
     "data": {
      "text/plain": [
       "genre\n",
       "pop            5892\n",
       "dance          4435\n",
       "rock           3965\n",
       "electronic     3786\n",
       "hiphop         2096\n",
       "classical      1616\n",
       "world          1432\n",
       "alternative    1379\n",
       "ruspop         1372\n",
       "rusrap         1161\n",
       "Name: genre, dtype: int64"
      ]
     },
     "execution_count": 37,
     "metadata": {},
     "output_type": "execute_result"
    }
   ],
   "source": [
    "moscow_genres[:10]"
   ]
  },
  {
   "cell_type": "markdown",
   "id": "9d5c37b0",
   "metadata": {},
   "source": [
    "**Job 28**\n",
    "\n",
    "\n",
    "Now repeat the same for Petersburg.\n",
    "\n",
    "Groupe the table ːspb_general™ by genre. Count listening to the tracks of each genre. Sort the result in descending order and save it in the table ¿spb_genres ê:"
   ]
  },
  {
   "cell_type": "code",
   "execution_count": 38,
   "id": "b4dd74cf",
   "metadata": {},
   "outputs": [],
   "source": [
    "spb_genres = spb_general.groupby('genre')['genre'].count().sort_values(ascending = False)\n"
   ]
  },
  {
   "cell_type": "markdown",
   "id": "fc2064fa",
   "metadata": {},
   "source": [
    "**Tarea 29**\n",
    "\n",
    "Mostrar las primeras diez líneas de ːspb_genres e:"
   ]
  },
  {
   "cell_type": "code",
   "execution_count": 39,
   "id": "57dfa0ce",
   "metadata": {},
   "outputs": [
    {
     "data": {
      "text/plain": [
       "genre\n",
       "pop            2431\n",
       "dance          1932\n",
       "rock           1879\n",
       "electronic     1736\n",
       "hiphop          960\n",
       "alternative     649\n",
       "classical       646\n",
       "rusrap          564\n",
       "ruspop          538\n",
       "world           515\n",
       "Name: genre, dtype: int64"
      ]
     },
     "execution_count": 39,
     "metadata": {},
     "output_type": "execute_result"
    }
   ],
   "source": [
    "spb_genres[:10]"
   ]
  },
  {
   "cell_type": "markdown",
   "id": "8ae8183c",
   "metadata": {},
   "source": [
    "**Conclusions**\n",
    "\n",
    "The hypothesis was partially confirmed:\n",
    "* Pop music is the most popular genre in Moscow, as the hypothesis suggested. Moreover, in the top 10 genres there is a close genre - Russian popular music.\n",
    "* Contrary to expectations, rap is equally popular in Moscow and Petersburg. \n",
    "\n",
    "## Research Results\n",
    "\n",
    "You tested three hypotheses and established:\n",
    "\n",
    "1. The day of the week influences users' activity in Moscow and Petersburg in different ways. \n",
    "\n",
    "The first hypothesis is fully confirmed.\n",
    "\n",
    "2. Musical preferences do not change much within a week - whether it is Moscow or Petersburg. Small differences are visible at the beginning of the week, on Mondays:\n",
    "* listen to \"world\" music in Moscow,\n",
    "* in Petersburg - jazz and classics.\n",
    "\n",
    "Thus, the second hypothesis was only partially confirmed. This result might have been different if not for the missing data.\n",
    "\n",
    "3. In the tastes of users of Moscow and St. Petersburg there is more common than differences.\n",
    "\n",
    "The third hypothesis is not true. If differences in preferences exist, they are invisible to the general public."
   ]
  },
  {
   "cell_type": "code",
   "execution_count": null,
   "id": "76abf3e1",
   "metadata": {},
   "outputs": [],
   "source": []
  }
 ],
 "metadata": {
  "kernelspec": {
   "display_name": "Python 3 (ipykernel)",
   "language": "python",
   "name": "python3"
  },
  "language_info": {
   "codemirror_mode": {
    "name": "ipython",
    "version": 3
   },
   "file_extension": ".py",
   "mimetype": "text/x-python",
   "name": "python",
   "nbconvert_exporter": "python",
   "pygments_lexer": "ipython3",
   "version": "3.9.13"
  }
 },
 "nbformat": 4,
 "nbformat_minor": 5
}
